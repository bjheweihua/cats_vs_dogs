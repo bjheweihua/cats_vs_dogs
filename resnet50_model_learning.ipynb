{
 "cells": [
  {
   "cell_type": "markdown",
   "metadata": {},
   "source": [
    "# 单模型实现\n",
    "\n",
    "如果没对异常数据剔除，请见另外一个文件：detection_remove.ipynb， 执行完后，走下面的步骤"
   ]
  },
  {
   "cell_type": "code",
   "execution_count": 1,
   "metadata": {},
   "outputs": [
    {
     "name": "stderr",
     "output_type": "stream",
     "text": [
      "Using TensorFlow backend.\n"
     ]
    }
   ],
   "source": [
    "from keras.models import *\n",
    "from keras.layers import *\n",
    "from keras.applications import *\n",
    "from keras.preprocessing.image import *\n",
    "import os\n",
    "os.chdir(\"{}/image\".format(os.getcwd()))"
   ]
  },
  {
   "cell_type": "markdown",
   "metadata": {},
   "source": [
    "# 加载数据集"
   ]
  },
  {
   "cell_type": "code",
   "execution_count": 2,
   "metadata": {},
   "outputs": [
    {
     "name": "stderr",
     "output_type": "stream",
     "text": [
      "100%|██████████| 24977/24977 [07:11<00:00, 57.86it/s]"
     ]
    },
    {
     "name": "stdout",
     "output_type": "stream",
     "text": [
      "训练样本加载完成，训练集图片数量：24977\n"
     ]
    },
    {
     "name": "stderr",
     "output_type": "stream",
     "text": [
      "\n"
     ]
    }
   ],
   "source": [
    "import cv2\n",
    "import os\n",
    "import numpy as np\n",
    "from tqdm import tqdm\n",
    "\n",
    "\n",
    "img_size = 224\n",
    "def load_train(img_size):\n",
    "    \n",
    "    train = os.listdir('train')\n",
    "    n = len(train)\n",
    "    X = np.zeros((n, img_size, img_size, 3), dtype=np.uint8)\n",
    "    y = np.zeros((n, 1), dtype=np.uint8) # cat = 0 , dog = 1\n",
    "    for i, filename in zip(tqdm(range(n)), train):\n",
    "        name = filename[0: 3]\n",
    "        if(name == 'cat'):\n",
    "            y[i] = 0 \n",
    "        elif(name == 'dog'):\n",
    "            y[i] = 1 \n",
    "        else:\n",
    "            return\n",
    "        X[i] = cv2.resize(cv2.imread('train/%s' % filename), (img_size, img_size))\n",
    "        \n",
    "    return X,y\n",
    "\n",
    "X, y = load_train(img_size)\n",
    "print(\"训练样本加载完成，训练集图片数量：{}\".format(len(X)))"
   ]
  },
  {
   "cell_type": "markdown",
   "metadata": {},
   "source": [
    "# 分为训练集和验证集\n",
    "\n",
    "http://scikit-learn.org/stable/modules/generated/sklearn.model_selection.train_test_split.html"
   ]
  },
  {
   "cell_type": "code",
   "execution_count": 3,
   "metadata": {
    "collapsed": true
   },
   "outputs": [],
   "source": [
    "from sklearn.model_selection import train_test_split\n",
    "X_train, X_valid, y_train, y_valid = train_test_split(X, y, test_size=0.2)"
   ]
  },
  {
   "cell_type": "markdown",
   "metadata": {},
   "source": [
    "# 构建模型\n",
    "\n",
    "https://github.com/fchollet/keras/blob/master/keras/applications/resnet50.py\n"
   ]
  },
  {
   "cell_type": "code",
   "execution_count": 4,
   "metadata": {},
   "outputs": [
    {
     "name": "stdout",
     "output_type": "stream",
     "text": [
      "WARNING:tensorflow:From /usr/local/anaconda3/lib/python3.6/site-packages/keras/backend/tensorflow_backend.py:1344: calling reduce_mean (from tensorflow.python.ops.math_ops) with keep_dims is deprecated and will be removed in a future version.\n",
      "Instructions for updating:\n",
      "keep_dims is deprecated, use keepdims instead\n"
     ]
    }
   ],
   "source": [
    "base_model = ResNet50(input_tensor=Input((224, 224, 3)), weights='imagenet', include_top=False)\n",
    "\n",
    "for layers in base_model.layers:\n",
    "    layers.trainable = False\n",
    "\n",
    "x = GlobalAveragePooling2D()(base_model.output)\n",
    "x = Dropout(0.25)(x)\n",
    "x = Dense(1, activation='sigmoid')(x)\n",
    "model = Model(base_model.input, x)"
   ]
  },
  {
   "cell_type": "code",
   "execution_count": 5,
   "metadata": {},
   "outputs": [],
   "source": [
    "model.compile(optimizer='adadelta',\n",
    "              loss='binary_crossentropy',\n",
    "              metrics=['accuracy'])"
   ]
  },
  {
   "cell_type": "markdown",
   "metadata": {},
   "source": [
    "# 训练模型"
   ]
  },
  {
   "cell_type": "code",
   "execution_count": 8,
   "metadata": {},
   "outputs": [
    {
     "name": "stdout",
     "output_type": "stream",
     "text": [
      "ResNet50 - optimizer=adadelta - batch_size=128\n",
      "Train on 19981 samples, validate on 4996 samples\n",
      "Epoch 1/8\n",
      "19981/19981 [==============================] - 1478s 74ms/step - loss: 0.0471 - acc: 0.9819 - val_loss: 0.0499 - val_acc: 0.9822\n",
      "Epoch 2/8\n",
      "19981/19981 [==============================] - 1495s 75ms/step - loss: 0.0473 - acc: 0.9825 - val_loss: 0.0530 - val_acc: 0.9812\n",
      "Epoch 3/8\n",
      "19981/19981 [==============================] - 1490s 75ms/step - loss: 0.0457 - acc: 0.9830 - val_loss: 0.0480 - val_acc: 0.9832\n",
      "Epoch 4/8\n",
      "19981/19981 [==============================] - 1489s 75ms/step - loss: 0.0460 - acc: 0.9828 - val_loss: 0.0479 - val_acc: 0.9836\n",
      "Epoch 5/8\n",
      "19981/19981 [==============================] - 1494s 75ms/step - loss: 0.0445 - acc: 0.9834 - val_loss: 0.0474 - val_acc: 0.9836\n",
      "Epoch 6/8\n",
      "19981/19981 [==============================] - 1495s 75ms/step - loss: 0.0446 - acc: 0.9833 - val_loss: 0.0484 - val_acc: 0.9830\n",
      "Epoch 7/8\n",
      "19981/19981 [==============================] - 1485s 74ms/step - loss: 0.0434 - acc: 0.9846 - val_loss: 0.0463 - val_acc: 0.9838\n",
      "Epoch 8/8\n",
      "19981/19981 [==============================] - 1490s 75ms/step - loss: 0.0429 - acc: 0.9842 - val_loss: 0.0460 - val_acc: 0.9838\n"
     ]
    }
   ],
   "source": [
    "print('ResNet50 - optimizer=adadelta - batch_size=128')\n",
    "model_trained = model.fit(X_train, y_train, batch_size=128, epochs=8, validation_data=(X_valid, y_valid))"
   ]
  },
  {
   "cell_type": "markdown",
   "metadata": {},
   "source": [
    "绘制模型训练收敛曲线"
   ]
  },
  {
   "cell_type": "code",
   "execution_count": 16,
   "metadata": {},
   "outputs": [
    {
     "data": {
      "image/png": "[encoded data removed]",
      "text/plain": [
       "<Figure size 432x288 with 1 Axes>"
      ]
     },
     "metadata": {
      "needs_background": "light"
     },
     "output_type": "display_data"
    },
    {
     "data": {
      "image/png": "[encoded data removed]",
      "text/plain": [
       "<Figure size 432x288 with 1 Axes>"
      ]
     },
     "metadata": {
      "needs_background": "light"
     },
     "output_type": "display_data"
    },
    {
     "name": "stdout",
     "output_type": "stream",
     "text": [
      "0.9837(max: 0.9837)\n",
      "Done.\n"
     ]
    }
   ],
   "source": [
    "import matplotlib.pyplot as plt\n",
    "%matplotlib inline\n",
    "\n",
    "# matplotlib.use('ggplot') #绘图风格设置\n",
    "\n",
    "# Plot accuracy\n",
    "plt.subplot(211)\n",
    "plt.plot(model_trained.history['acc'])\n",
    "plt.plot(model_trained.history['val_acc'])\n",
    "plt.title('ResNet50 Model Accuracy')\n",
    "plt.ylabel('Accuracy')\n",
    "plt.xlabel('Epoch')\n",
    "plt.legend(['Train', 'Validation'], loc='upper left')\n",
    "plt.figure()\n",
    "\n",
    "# Plot loss\n",
    "plt.subplot(212)\n",
    "plt.plot(model_trained.history['loss'])\n",
    "plt.plot(model_trained.history['val_loss'])\n",
    "plt.title('ResNet50 Model Loss')\n",
    "plt.ylabel('Loss')\n",
    "plt.xlabel('Epoch')\n",
    "plt.legend(['Train', 'Validation'], loc='upper right')\n",
    "\n",
    "plt.show()\n",
    "\n",
    "# plt.tight_layout(h_pad=1.0)\n",
    "# plt.savefig('/history-graph.png')\n",
    "\n",
    "print(str(model_trained.history['val_acc'][-1])[:6] +\n",
    "      \"(max: \" + str(max(model_trained.history['val_acc']))[:6] + \")\")\n",
    "print(\"Done.\")"
   ]
  },
  {
   "cell_type": "code",
   "execution_count": 24,
   "metadata": {},
   "outputs": [],
   "source": [
    "import matplotlib.pyplot as plt\n",
    "%matplotlib inline\n",
    "# 画图\n",
    "def plot_training(history, model_name):\n",
    "    acc = history.history['acc']\n",
    "    val_acc = history.history['val_acc']\n",
    "    epochs = range(len(acc))\n",
    "    plt.plot(epochs, acc, 'b')\n",
    "    plt.plot(epochs, val_acc, 'r')\n",
    "    plt.legend([\"acc\", \"val_acc\"], loc='best')\n",
    "    plt.title('{} Model accuracy'.format(model_name))\n",
    "    plt.figure()\n",
    "\n",
    "    loss = history.history['loss']\n",
    "    val_loss = history.history['val_loss']   \n",
    "    plt.plot(epochs, loss, 'b')\n",
    "    plt.plot(epochs, val_loss, 'r')\n",
    "    plt.legend([\"loss\", \"val_loss\"], loc='best')\n",
    "    plt.title('{} Model loss'.format(model_name))\n",
    "    plt.show()\n",
    "    print(str(history.history['val_acc'][-1])[:6] +\n",
    "      \"(max: \" + str(max(history.history['val_acc']))[:6] + \")\")\n",
    "    print(\"Done.\")\n"
   ]
  },
  {
   "cell_type": "code",
   "execution_count": 25,
   "metadata": {},
   "outputs": [
    {
     "data": {
      "image/png": "[encoded data removed]",
      "text/plain": [
       "<Figure size 432x288 with 1 Axes>"
      ]
     },
     "metadata": {
      "needs_background": "light"
     },
     "output_type": "display_data"
    },
    {
     "data": {
      "image/png": "[encoded data removed]",
      "text/plain": [
       "<Figure size 432x288 with 1 Axes>"
      ]
     },
     "metadata": {
      "needs_background": "light"
     },
     "output_type": "display_data"
    },
    {
     "name": "stdout",
     "output_type": "stream",
     "text": [
      "0.9837(max: 0.9837)\n",
      "Done.\n"
     ]
    }
   ],
   "source": [
    "# 训练的acc_loss图\n",
    "plot_training(model_trained, 'ResNet50')"
   ]
  },
  {
   "cell_type": "markdown",
   "metadata": {},
   "source": [
    "# 可视化模型\n",
    "\n",
    "https://keras.io/visualization/"
   ]
  },
  {
   "cell_type": "code",
   "execution_count": 18,
   "metadata": {
    "scrolled": false
   },
   "outputs": [],
   "source": [
    "from IPython.display import SVG\n",
    "from keras.utils.vis_utils import model_to_dot\n",
    "\n",
    "# SVG(model_to_dot(model).create(prog='dot', format='svg'))"
   ]
  },
  {
   "cell_type": "code",
   "execution_count": 19,
   "metadata": {
    "scrolled": false
   },
   "outputs": [
    {
     "data": {
      "text/plain": [
       "<zip at 0x7f8117be4188>"
      ]
     },
     "execution_count": 19,
     "metadata": {},
     "output_type": "execute_result"
    }
   ],
   "source": [
    "zip([x.name for x in model.layers], range(len(model.layers)))"
   ]
  },
  {
   "cell_type": "markdown",
   "metadata": {},
   "source": [
    "# Fine-tune\n",
    "\n",
    "http://keras-cn.readthedocs.io/en/latest/blog/image_classification_using_very_little_data/"
   ]
  },
  {
   "cell_type": "code",
   "execution_count": 26,
   "metadata": {
    "collapsed": true
   },
   "outputs": [],
   "source": [
    "for layer in model.layers[140:]:\n",
    "    layer.trainable = True"
   ]
  },
  {
   "cell_type": "code",
   "execution_count": 28,
   "metadata": {},
   "outputs": [
    {
     "name": "stdout",
     "output_type": "stream",
     "text": [
      "ResNet50 - optimizer=adadelta - batch_size=128 - fine-tune\n",
      "Train on 19981 samples, validate on 4996 samples\n",
      "Epoch 1/8\n",
      "19981/19981 [==============================] - 1484s 74ms/step - loss: 0.0411 - acc: 0.9856 - val_loss: 0.0457 - val_acc: 0.9840\n",
      "Epoch 2/8\n",
      "19981/19981 [==============================] - 1495s 75ms/step - loss: 0.0421 - acc: 0.9846 - val_loss: 0.0470 - val_acc: 0.9834\n",
      "Epoch 3/8\n",
      "19981/19981 [==============================] - 1493s 75ms/step - loss: 0.0409 - acc: 0.9845 - val_loss: 0.0466 - val_acc: 0.9840\n",
      "Epoch 4/8\n",
      "19981/19981 [==============================] - 1499s 75ms/step - loss: 0.0399 - acc: 0.9850 - val_loss: 0.0452 - val_acc: 0.9838\n",
      "Epoch 5/8\n",
      "19981/19981 [==============================] - 1491s 75ms/step - loss: 0.0389 - acc: 0.9865 - val_loss: 0.0475 - val_acc: 0.9828\n",
      "Epoch 6/8\n",
      "19981/19981 [==============================] - 1485s 74ms/step - loss: 0.0377 - acc: 0.9860 - val_loss: 0.0453 - val_acc: 0.9838\n",
      "Epoch 7/8\n",
      "19981/19981 [==============================] - 1490s 75ms/step - loss: 0.0391 - acc: 0.9855 - val_loss: 0.0449 - val_acc: 0.9838\n",
      "Epoch 8/8\n",
      "19981/19981 [==============================] - 1519s 76ms/step - loss: 0.0390 - acc: 0.9859 - val_loss: 0.0455 - val_acc: 0.9844\n"
     ]
    },
    {
     "data": {
      "text/plain": [
       "<keras.callbacks.History at 0x7f8117440518>"
      ]
     },
     "execution_count": 28,
     "metadata": {},
     "output_type": "execute_result"
    }
   ],
   "source": [
    "print('ResNet50 - optimizer=adadelta - batch_size=128 - fine-tune')\n",
    "model.fit(X_train, y_train, batch_size=128, epochs=8, validation_data=(X_valid, y_valid))"
   ]
  },
  {
   "cell_type": "code",
   "execution_count": 29,
   "metadata": {
    "collapsed": true
   },
   "outputs": [],
   "source": [
    "model.save('resnet50_model.h5')"
   ]
  },
  {
   "cell_type": "code",
   "execution_count": 35,
   "metadata": {},
   "outputs": [
    {
     "name": "stderr",
     "output_type": "stream",
     "text": [
      "100%|██████████| 12500/12500 [05:28<00:00, 38.11it/s]\n"
     ]
    }
   ],
   "source": [
    "def load_test(n,img_size):\n",
    "    X = np.zeros((n, img_size, img_size, 3), dtype=np.uint8)\n",
    "\n",
    "    for i in tqdm(range(n)):\n",
    "        #test图片从1.jpg开始\n",
    "        X[i] = cv2.resize(cv2.cvtColor(cv2.imread('test/%d.jpg' % (i+1)), cv2.COLOR_BGR2RGB), (img_size, img_size)) \n",
    "    return X\n",
    "\n",
    "X_test = load_test(12500,224)"
   ]
  },
  {
   "cell_type": "code",
   "execution_count": 36,
   "metadata": {},
   "outputs": [
    {
     "name": "stdout",
     "output_type": "stream",
     "text": [
      "Found 12500 images belonging to 1 classes.\n",
      "12500/12500 [==============================] - 726s 58ms/step\n"
     ]
    },
    {
     "name": "stderr",
     "output_type": "stream",
     "text": [
      "/usr/local/anaconda3/lib/python3.6/site-packages/ipykernel_launcher.py:16: FutureWarning: set_value is deprecated and will be removed in a future release. Please use .at[] or .iat[] accessors instead\n",
      "  app.launch_new_instance()\n"
     ]
    },
    {
     "data": {
      "text/html": [
       "<div>\n",
       "<style scoped>\n",
       "    .dataframe tbody tr th:only-of-type {\n",
       "        vertical-align: middle;\n",
       "    }\n",
       "\n",
       "    .dataframe tbody tr th {\n",
       "        vertical-align: top;\n",
       "    }\n",
       "\n",
       "    .dataframe thead th {\n",
       "        text-align: right;\n",
       "    }\n",
       "</style>\n",
       "<table border=\"1\" class=\"dataframe\">\n",
       "  <thead>\n",
       "    <tr style=\"text-align: right;\">\n",
       "      <th></th>\n",
       "      <th>id</th>\n",
       "      <th>label</th>\n",
       "    </tr>\n",
       "  </thead>\n",
       "  <tbody>\n",
       "    <tr>\n",
       "      <th>0</th>\n",
       "      <td>1</td>\n",
       "      <td>0.995000</td>\n",
       "    </tr>\n",
       "    <tr>\n",
       "      <th>1</th>\n",
       "      <td>2</td>\n",
       "      <td>0.995000</td>\n",
       "    </tr>\n",
       "    <tr>\n",
       "      <th>2</th>\n",
       "      <td>3</td>\n",
       "      <td>0.995000</td>\n",
       "    </tr>\n",
       "    <tr>\n",
       "      <th>3</th>\n",
       "      <td>4</td>\n",
       "      <td>0.005000</td>\n",
       "    </tr>\n",
       "    <tr>\n",
       "      <th>4</th>\n",
       "      <td>5</td>\n",
       "      <td>0.693693</td>\n",
       "    </tr>\n",
       "    <tr>\n",
       "      <th>5</th>\n",
       "      <td>6</td>\n",
       "      <td>0.995000</td>\n",
       "    </tr>\n",
       "    <tr>\n",
       "      <th>6</th>\n",
       "      <td>7</td>\n",
       "      <td>0.995000</td>\n",
       "    </tr>\n",
       "    <tr>\n",
       "      <th>7</th>\n",
       "      <td>8</td>\n",
       "      <td>0.995000</td>\n",
       "    </tr>\n",
       "    <tr>\n",
       "      <th>8</th>\n",
       "      <td>9</td>\n",
       "      <td>0.005000</td>\n",
       "    </tr>\n",
       "    <tr>\n",
       "      <th>9</th>\n",
       "      <td>10</td>\n",
       "      <td>0.995000</td>\n",
       "    </tr>\n",
       "  </tbody>\n",
       "</table>\n",
       "</div>"
      ],
      "text/plain": [
       "   id     label\n",
       "0   1  0.995000\n",
       "1   2  0.995000\n",
       "2   3  0.995000\n",
       "3   4  0.005000\n",
       "4   5  0.693693\n",
       "5   6  0.995000\n",
       "6   7  0.995000\n",
       "7   8  0.995000\n",
       "8   9  0.005000\n",
       "9  10  0.995000"
      ]
     },
     "execution_count": 36,
     "metadata": {},
     "output_type": "execute_result"
    }
   ],
   "source": [
    "import pandas as pd\n",
    "from keras.preprocessing.image import *\n",
    "\n",
    "df = pd.read_csv(\"sample_submission.csv\")\n",
    "\n",
    "image_size = (224, 224)\n",
    "gen = ImageDataGenerator()\n",
    "test_generator = gen.flow_from_directory(\"img_test\", image_size, shuffle=False, \n",
    "                                         batch_size=16, class_mode=None)\n",
    "\n",
    "y_pred = model.predict(X_test, verbose=1)\n",
    "y_pred = y_pred.clip(min=0.005, max=0.995)\n",
    "\n",
    "for i, fname in enumerate(test_generator.filenames):\n",
    "    index = int(fname[fname.rfind('/')+1:fname.rfind('.')])\n",
    "    df.set_value(index-1, 'label', y_pred[i])\n",
    "\n",
    "df.to_csv('resnet50_pred.csv', index=None)\n",
    "df.head(10)"
   ]
  },
  {
   "cell_type": "code",
   "execution_count": null,
   "metadata": {},
   "outputs": [],
   "source": []
  }
 ],
 "metadata": {
  "kernelspec": {
   "display_name": "Python3 (PySpark)",
   "language": "python",
   "name": "python3"
  },
  "language_info": {
   "codemirror_mode": {
    "name": "ipython",
    "version": 3
   },
   "file_extension": ".py",
   "mimetype": "text/x-python",
   "name": "python",
   "nbconvert_exporter": "python",
   "pygments_lexer": "ipython3",
   "version": "3.6.7"
  }
 },
 "nbformat": 4,
 "nbformat_minor": 2
}
